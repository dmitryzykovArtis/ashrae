{
 "cells": [
  {
   "cell_type": "code",
   "execution_count": 1,
   "metadata": {},
   "outputs": [],
   "source": [
    "import pandas as pd\n",
    "import os"
   ]
  },
  {
   "cell_type": "code",
   "execution_count": 2,
   "metadata": {},
   "outputs": [
    {
     "name": "stdout",
     "output_type": "stream",
     "text": [
      "Checking whether there is an H2O instance running at http://localhost:54321 . connected.\n"
     ]
    },
    {
     "data": {
      "text/html": [
       "<div style=\"overflow:auto\"><table style=\"width:50%\"><tr><td>H2O cluster uptime:</td>\n",
       "<td>16 mins 55 secs</td></tr>\n",
       "<tr><td>H2O cluster timezone:</td>\n",
       "<td>Europe/Moscow</td></tr>\n",
       "<tr><td>H2O data parsing timezone:</td>\n",
       "<td>UTC</td></tr>\n",
       "<tr><td>H2O cluster version:</td>\n",
       "<td>3.26.0.10</td></tr>\n",
       "<tr><td>H2O cluster version age:</td>\n",
       "<td>27 days </td></tr>\n",
       "<tr><td>H2O cluster name:</td>\n",
       "<td>H2O_from_python_Р”РёРјР°_Рё_РќР°СЃС‚СЏ_5c8o19</td></tr>\n",
       "<tr><td>H2O cluster total nodes:</td>\n",
       "<td>1</td></tr>\n",
       "<tr><td>H2O cluster free memory:</td>\n",
       "<td>3.229 Gb</td></tr>\n",
       "<tr><td>H2O cluster total cores:</td>\n",
       "<td>8</td></tr>\n",
       "<tr><td>H2O cluster allowed cores:</td>\n",
       "<td>8</td></tr>\n",
       "<tr><td>H2O cluster status:</td>\n",
       "<td>locked, healthy</td></tr>\n",
       "<tr><td>H2O connection url:</td>\n",
       "<td>http://localhost:54321</td></tr>\n",
       "<tr><td>H2O connection proxy:</td>\n",
       "<td>{'http': None, 'https': None}</td></tr>\n",
       "<tr><td>H2O internal security:</td>\n",
       "<td>False</td></tr>\n",
       "<tr><td>H2O API Extensions:</td>\n",
       "<td>Amazon S3, Algos, AutoML, Core V3, TargetEncoder, Core V4</td></tr>\n",
       "<tr><td>Python version:</td>\n",
       "<td>3.7.4 final</td></tr></table></div>"
      ],
      "text/plain": [
       "--------------------------  ---------------------------------------------------------\n",
       "H2O cluster uptime:         16 mins 55 secs\n",
       "H2O cluster timezone:       Europe/Moscow\n",
       "H2O data parsing timezone:  UTC\n",
       "H2O cluster version:        3.26.0.10\n",
       "H2O cluster version age:    27 days\n",
       "H2O cluster name:           H2O_from_python_Р”РёРјР°_Рё_РќР°СЃС‚СЏ_5c8o19\n",
       "H2O cluster total nodes:    1\n",
       "H2O cluster free memory:    3.229 Gb\n",
       "H2O cluster total cores:    8\n",
       "H2O cluster allowed cores:  8\n",
       "H2O cluster status:         locked, healthy\n",
       "H2O connection url:         http://localhost:54321\n",
       "H2O connection proxy:       {'http': None, 'https': None}\n",
       "H2O internal security:      False\n",
       "H2O API Extensions:         Amazon S3, Algos, AutoML, Core V3, TargetEncoder, Core V4\n",
       "Python version:             3.7.4 final\n",
       "--------------------------  ---------------------------------------------------------"
      ]
     },
     "metadata": {},
     "output_type": "display_data"
    }
   ],
   "source": [
    "import h2o\n",
    "from h2o.automl import H2OAutoML\n",
    "h2o.init()"
   ]
  },
  {
   "cell_type": "code",
   "execution_count": 3,
   "metadata": {},
   "outputs": [
    {
     "name": "stderr",
     "output_type": "stream",
     "text": [
      "C:\\conda\\lib\\site-packages\\numpy\\lib\\arraysetops.py:568: FutureWarning: elementwise comparison failed; returning scalar instead, but in the future will perform elementwise comparison\n",
      "  mask |= (ar1 == a)\n"
     ]
    }
   ],
   "source": [
    "X = pd.read_csv('X.csv', index_col = 0)"
   ]
  },
  {
   "cell_type": "code",
   "execution_count": 4,
   "metadata": {},
   "outputs": [],
   "source": [
    "y = pd.read_csv('y.csv', index_col = 0, header = None, names = ['id', 'y'])"
   ]
  },
  {
   "cell_type": "code",
   "execution_count": 5,
   "metadata": {},
   "outputs": [],
   "source": [
    "meter = 0\n",
    "df_meter = X[X.meter == meter]\n",
    "buildings = df_meter.building_id.unique()\n",
    "building = buildings[0]\n",
    "df_prep = df_meter[df_meter.building_id == building]\n",
    "X_train = df_prep.drop(['meter', 'building_id'], axis=1)\n",
    "y_train = y.loc[X_train.index]\n"
   ]
  },
  {
   "cell_type": "code",
   "execution_count": 6,
   "metadata": {},
   "outputs": [
    {
     "name": "stdout",
     "output_type": "stream",
     "text": [
      "Parse progress: |█████████████████████████████████████████████████████████| 100%\n",
      "Parse progress: |█████████████████████████████████████████████████████████| 100%\n"
     ]
    }
   ],
   "source": [
    "df = pd.concat([X_train, y_train], axis = 1)\n",
    "\n",
    "split = int((len(df)*0.9)//1)\n",
    "df_train = df.iloc[:split]\n",
    "df_test = df.iloc[split:]\n",
    "\n",
    "hdf_train = h2o.H2OFrame(df_train)\n",
    "hdf_test = h2o.H2OFrame(df_test)\n"
   ]
  },
  {
   "cell_type": "code",
   "execution_count": 7,
   "metadata": {},
   "outputs": [
    {
     "data": {
      "text/html": [
       "<div>\n",
       "<style scoped>\n",
       "    .dataframe tbody tr th:only-of-type {\n",
       "        vertical-align: middle;\n",
       "    }\n",
       "\n",
       "    .dataframe tbody tr th {\n",
       "        vertical-align: top;\n",
       "    }\n",
       "\n",
       "    .dataframe thead th {\n",
       "        text-align: right;\n",
       "    }\n",
       "</style>\n",
       "<table border=\"1\" class=\"dataframe\">\n",
       "  <thead>\n",
       "    <tr style=\"text-align: right;\">\n",
       "      <th></th>\n",
       "      <th>air_temperature</th>\n",
       "      <th>cloud_coverage</th>\n",
       "      <th>dew_temperature</th>\n",
       "      <th>precip_depth_1_hr</th>\n",
       "      <th>sea_level_pressure</th>\n",
       "      <th>wind_direction</th>\n",
       "      <th>wind_speed</th>\n",
       "      <th>had_air_temperature</th>\n",
       "      <th>had_cloud_coverage</th>\n",
       "      <th>had_dew_temperature</th>\n",
       "      <th>had_precip_depth_1_hr</th>\n",
       "      <th>had_sea_level_pressure</th>\n",
       "      <th>had_wind_direction</th>\n",
       "      <th>had_wind_speed</th>\n",
       "      <th>tm_day_of_week</th>\n",
       "      <th>tm_hour_of_day</th>\n",
       "      <th>y</th>\n",
       "    </tr>\n",
       "  </thead>\n",
       "  <tbody>\n",
       "    <tr>\n",
       "      <th>103</th>\n",
       "      <td>3.8</td>\n",
       "      <td>0.0</td>\n",
       "      <td>2.4</td>\n",
       "      <td>0.0</td>\n",
       "      <td>1020.9</td>\n",
       "      <td>240.0</td>\n",
       "      <td>3.1</td>\n",
       "      <td>1</td>\n",
       "      <td>0</td>\n",
       "      <td>1</td>\n",
       "      <td>0</td>\n",
       "      <td>1</td>\n",
       "      <td>1</td>\n",
       "      <td>1</td>\n",
       "      <td>0</td>\n",
       "      <td>0</td>\n",
       "      <td>3.190624</td>\n",
       "    </tr>\n",
       "  </tbody>\n",
       "</table>\n",
       "</div>"
      ],
      "text/plain": [
       "     air_temperature  cloud_coverage  dew_temperature  precip_depth_1_hr  \\\n",
       "103              3.8             0.0              2.4                0.0   \n",
       "\n",
       "     sea_level_pressure  wind_direction  wind_speed  had_air_temperature  \\\n",
       "103              1020.9           240.0         3.1                    1   \n",
       "\n",
       "     had_cloud_coverage  had_dew_temperature  had_precip_depth_1_hr  \\\n",
       "103                   0                    1                      0   \n",
       "\n",
       "     had_sea_level_pressure  had_wind_direction  had_wind_speed  \\\n",
       "103                       1                   1               1   \n",
       "\n",
       "     tm_day_of_week  tm_hour_of_day         y  \n",
       "103               0               0  3.190624  "
      ]
     },
     "execution_count": 7,
     "metadata": {},
     "output_type": "execute_result"
    }
   ],
   "source": [
    "df_train.head(1)"
   ]
  },
  {
   "cell_type": "code",
   "execution_count": 8,
   "metadata": {},
   "outputs": [],
   "source": [
    "aml = H2OAutoML(max_runtime_secs = 60, seed = 1, project_name = \"ashrae\")"
   ]
  },
  {
   "cell_type": "code",
   "execution_count": 9,
   "metadata": {},
   "outputs": [
    {
     "name": "stdout",
     "output_type": "stream",
     "text": [
      "AutoML progress: |████████████████████████████████████████████████████████| 100%\n"
     ]
    }
   ],
   "source": [
    "aml.train(training_frame = hdf_train,leaderboard_frame = hdf_test, x = list(X_train.columns), y = 'y')"
   ]
  },
  {
   "cell_type": "code",
   "execution_count": 10,
   "metadata": {},
   "outputs": [
    {
     "data": {
      "text/html": [
       "<table>\n",
       "<thead>\n",
       "<tr><th>model_id                                           </th><th style=\"text-align: right;\">  mean_residual_deviance</th><th style=\"text-align: right;\">    rmse</th><th style=\"text-align: right;\">      mse</th><th style=\"text-align: right;\">     mae</th><th style=\"text-align: right;\">    rmsle</th></tr>\n",
       "</thead>\n",
       "<tbody>\n",
       "<tr><td>GBM_5_AutoML_20191201_143243                       </td><td style=\"text-align: right;\">               0.0820335</td><td style=\"text-align: right;\">0.286415</td><td style=\"text-align: right;\">0.0820335</td><td style=\"text-align: right;\">0.212338</td><td style=\"text-align: right;\">0.054655 </td></tr>\n",
       "<tr><td>StackedEnsemble_AllModels_AutoML_20191201_143243   </td><td style=\"text-align: right;\">               0.08216  </td><td style=\"text-align: right;\">0.286636</td><td style=\"text-align: right;\">0.08216  </td><td style=\"text-align: right;\">0.212492</td><td style=\"text-align: right;\">0.0546426</td></tr>\n",
       "<tr><td>StackedEnsemble_BestOfFamily_AutoML_20191201_143243</td><td style=\"text-align: right;\">               0.0828114</td><td style=\"text-align: right;\">0.28777 </td><td style=\"text-align: right;\">0.0828114</td><td style=\"text-align: right;\">0.216896</td><td style=\"text-align: right;\">0.0548643</td></tr>\n",
       "<tr><td>GBM_3_AutoML_20191201_143243                       </td><td style=\"text-align: right;\">               0.0850488</td><td style=\"text-align: right;\">0.291631</td><td style=\"text-align: right;\">0.0850488</td><td style=\"text-align: right;\">0.211387</td><td style=\"text-align: right;\">0.0553869</td></tr>\n",
       "<tr><td>GBM_4_AutoML_20191201_143243                       </td><td style=\"text-align: right;\">               0.0853481</td><td style=\"text-align: right;\">0.292144</td><td style=\"text-align: right;\">0.0853481</td><td style=\"text-align: right;\">0.214694</td><td style=\"text-align: right;\">0.0555155</td></tr>\n",
       "<tr><td>DRF_1_AutoML_20191201_143243                       </td><td style=\"text-align: right;\">               0.0861425</td><td style=\"text-align: right;\">0.2935  </td><td style=\"text-align: right;\">0.0861425</td><td style=\"text-align: right;\">0.220789</td><td style=\"text-align: right;\">0.0556687</td></tr>\n",
       "<tr><td>GBM_1_AutoML_20191201_143243                       </td><td style=\"text-align: right;\">               0.0885728</td><td style=\"text-align: right;\">0.297612</td><td style=\"text-align: right;\">0.0885728</td><td style=\"text-align: right;\">0.215585</td><td style=\"text-align: right;\">0.0565061</td></tr>\n",
       "<tr><td>GBM_2_AutoML_20191201_143243                       </td><td style=\"text-align: right;\">               0.0893495</td><td style=\"text-align: right;\">0.298914</td><td style=\"text-align: right;\">0.0893495</td><td style=\"text-align: right;\">0.213875</td><td style=\"text-align: right;\">0.0566759</td></tr>\n",
       "<tr><td>GLM_grid_1_AutoML_20191201_143243_model_1          </td><td style=\"text-align: right;\">               0.134962 </td><td style=\"text-align: right;\">0.367372</td><td style=\"text-align: right;\">0.134962 </td><td style=\"text-align: right;\">0.303001</td><td style=\"text-align: right;\">0.0685641</td></tr>\n",
       "</tbody>\n",
       "</table>"
      ]
     },
     "metadata": {},
     "output_type": "display_data"
    },
    {
     "data": {
      "text/plain": []
     },
     "execution_count": 10,
     "metadata": {},
     "output_type": "execute_result"
    }
   ],
   "source": [
    "aml.leaderboard.head() #0.106653 - 5s, 10s - 0.0863501, 30s - 0.0861425, 60s - 0.0848381, 600s 0.082"
   ]
  },
  {
   "cell_type": "code",
   "execution_count": 11,
   "metadata": {},
   "outputs": [
    {
     "name": "stdout",
     "output_type": "stream",
     "text": [
      "Cannot build an XGBoost model - no backend found.\n"
     ]
    },
    {
     "data": {
      "text/plain": [
       "False"
      ]
     },
     "execution_count": 11,
     "metadata": {},
     "output_type": "execute_result"
    }
   ],
   "source": [
    "h2o.estimators.xgboost.H2OXGBoostEstimator.available()"
   ]
  },
  {
   "cell_type": "code",
   "execution_count": 12,
   "metadata": {},
   "outputs": [],
   "source": [
    "directory = os.path.join(str(meter), str(building))\n",
    "if not os.path.exists(directory):\n",
    "    os.makedirs(directory)"
   ]
  },
  {
   "cell_type": "code",
   "execution_count": 13,
   "metadata": {},
   "outputs": [
    {
     "data": {
      "text/plain": [
       "'C:\\\\Users\\\\Р”РёРјР° Рё РќР°СЃС‚СЏ\\\\Documents\\\\kaggle\\\\0\\\\105\\\\GBM_5_AutoML_20191201_143243'"
      ]
     },
     "execution_count": 13,
     "metadata": {},
     "output_type": "execute_result"
    }
   ],
   "source": [
    "h2o.save_model(model=aml.leader, path=directory, force=True)"
   ]
  },
  {
   "cell_type": "code",
   "execution_count": 6,
   "metadata": {},
   "outputs": [],
   "source": [
    "for meter in [0, 1, 2, 3]:\n",
    "    df_meter = X[X.meter == meter]\n",
    "    buildings = df_meter.building_id.unique()\n",
    "    error_list = []\n",
    "    for building in buildings:\n",
    "        try:\n",
    "            directory = os.path.join(str(meter), str(building))\n",
    "            if os.path.exists(directory):\n",
    "                continue\n",
    "            df_prep = df_meter[df_meter.building_id == building]\n",
    "            X_train = df_prep.drop(['meter', 'building_id'], axis=1)\n",
    "            y_train = y.loc[X_train.index]\n",
    "\n",
    "            df = pd.concat([X_train, y_train], axis = 1)\n",
    "\n",
    "            split = int((len(df)*0.9)//1)\n",
    "            df_train = df.iloc[:split]\n",
    "            df_test = df.iloc[split:]\n",
    "\n",
    "            hdf_train = h2o.H2OFrame(df_train)\n",
    "            hdf_test = h2o.H2OFrame(df_test)\n",
    "\n",
    "            aml = H2OAutoML(max_runtime_secs = 60, seed = 1, project_name = \"ashrae\")\n",
    "            aml.train(training_frame = hdf_train,leaderboard_frame = hdf_test, x = list(X_train.columns), y = 'y')\n",
    "            print(aml.leaderboard.head())\n",
    "            \n",
    "            if not os.path.exists(directory):\n",
    "                os.makedirs(directory)\n",
    "            h2o.save_model(model=aml.leader, path=directory, force=True)\n",
    "            print(str(meter)+ '_' + str(building))\n",
    "        except Exception as ex:\n",
    "            print('ERROR' + str(meter)+ '_' + str(building))\n",
    "            print(ex)\n",
    "            error_list.append(str(meter)+ '_' + str(building))\n",
    "            "
   ]
  },
  {
   "cell_type": "code",
   "execution_count": null,
   "metadata": {},
   "outputs": [],
   "source": []
  }
 ],
 "metadata": {
  "kernelspec": {
   "display_name": "Python 3",
   "language": "python",
   "name": "python3"
  },
  "language_info": {
   "codemirror_mode": {
    "name": "ipython",
    "version": 3
   },
   "file_extension": ".py",
   "mimetype": "text/x-python",
   "name": "python",
   "nbconvert_exporter": "python",
   "pygments_lexer": "ipython3",
   "version": "3.7.4"
  }
 },
 "nbformat": 4,
 "nbformat_minor": 2
}
